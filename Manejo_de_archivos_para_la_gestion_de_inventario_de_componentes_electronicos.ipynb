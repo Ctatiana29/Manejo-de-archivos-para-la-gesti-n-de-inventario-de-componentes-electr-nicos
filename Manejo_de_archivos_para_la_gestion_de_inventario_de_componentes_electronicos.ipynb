{
  "cells": [
    {
      "cell_type": "markdown",
      "metadata": {
        "id": "view-in-github",
        "colab_type": "text"
      },
      "source": [
        "<a href=\"https://colab.research.google.com/github/Ctatiana29/Manejo-de-archivos-para-la-gesti-n-de-inventario-de-componentes-electr-nicos/blob/main/Manejo_de_archivos_para_la_gestion_de_inventario_de_componentes_electronicos.ipynb\" target=\"_parent\"><img src=\"https://colab.research.google.com/assets/colab-badge.svg\" alt=\"Open In Colab\"/></a>"
      ]
    },
    {
      "cell_type": "code",
      "source": [
        "import os"
      ],
      "metadata": {
        "id": "p7jTDjEjS9CZ"
      },
      "id": "p7jTDjEjS9CZ",
      "execution_count": 19,
      "outputs": []
    },
    {
      "cell_type": "markdown",
      "id": "890d4011",
      "metadata": {
        "id": "890d4011"
      },
      "source": [
        "\n",
        "# Universidad Tecnológica La Salle (ULSA)\n",
        "## Facultad de Ingeniería  \n",
        "### Asignatura: Organización de Archivos  \n",
        "**Docente:** Ing. Aarón Cisneros  \n",
        "* Manejo de archivos para la gestion de inventario de componentes electronicos*\n",
        "\n",
        "\n"
      ]
    },
    {
      "cell_type": "markdown",
      "id": "231df1e4",
      "metadata": {
        "id": "231df1e4"
      },
      "source": [
        "Crear un archivo de inventario de componentes\n"
      ]
    },
    {
      "cell_type": "code",
      "source": [
        "import os\n",
        "\n",
        "# Carga la información del inventario junto con los índices de acceso directo\n",
        "def cargar_inventario(archivo):\n",
        "    datos = {}\n",
        "    indice_por_id = {}\n",
        "    indice_por_categoria = {}\n",
        "\n",
        "    # Si el archivo no existe, se crea vacío\n",
        "    if not os.path.isfile(archivo):\n",
        "        open(archivo, 'w').close()\n",
        "\n",
        "    with open(archivo, 'r') as f:\n",
        "        while True:\n",
        "            posicion = f.tell()  # Guarda la posición antes de leer la línea\n",
        "            linea = f.readline()\n",
        "            if not linea:\n",
        "                break\n",
        "            linea = linea.strip()\n",
        "            if linea:\n",
        "                partes = linea.split(',')\n",
        "                # Estructura: ID, nombre, fabricante, categoría, cantidad\n",
        "                if len(partes) == 5:\n",
        "                    id_item, nombre, marca, tipo, cantidad = partes\n",
        "                    datos[id_item] = {\n",
        "                        \"nombre\": nombre,\n",
        "                        \"fabricante\": marca,\n",
        "                        \"categoria\": tipo,\n",
        "                        \"cantidad\": int(cantidad)\n",
        "                    }\n",
        "                    indice_por_id[id_item] = posicion\n",
        "                    indice_por_categoria.setdefault(tipo, []).append(id_item)\n",
        "\n",
        "    return datos, indice_por_id, indice_por_categoria\n",
        "\n",
        "\n",
        "# Guarda toda la información del inventario sobrescribiendo el archivo\n",
        "def guardar_inventario(inventario, archivo):\n",
        "    with open(archivo, 'w') as f:\n",
        "        for codigo, info in inventario.items():\n",
        "            linea = f\"{codigo},{info['nombre']},{info['fabricante']},{info['categoria']},{info['cantidad']}\\n\"\n",
        "            f.write(linea)\n",
        "\n",
        "\n",
        "# Añade un nuevo elemento y actualiza los índices\n",
        "def agregar_item(inventario, archivo, id_item, nombre, fabricante, categoria, cantidad):\n",
        "    inventario[id_item] = {\n",
        "        \"nombre\": nombre,\n",
        "        \"fabricante\": fabricante,\n",
        "        \"categoria\": categoria,\n",
        "        \"cantidad\": cantidad\n",
        "    }\n",
        "    guardar_inventario(inventario, archivo)\n",
        "    # Recarga para mantener consistencia\n",
        "    return cargar_inventario(archivo)\n",
        "\n",
        "\n",
        "# Busca un registro directamente con la posición (seek)\n",
        "def buscar_por_id(archivo, indice_id, id_item):\n",
        "    if id_item in indice_id:\n",
        "        with open(archivo, 'r') as f:\n",
        "            f.seek(indice_id[id_item])\n",
        "            datos_linea = f.readline().strip().split(',')\n",
        "            if len(datos_linea) == 5:\n",
        "                return {\n",
        "                    \"nombre\": datos_linea[1],\n",
        "                    \"fabricante\": datos_linea[2],\n",
        "                    \"categoria\": datos_linea[3],\n",
        "                    \"cantidad\": int(datos_linea[4])\n",
        "                }\n",
        "    return \" Componente no encontrado.\"\n",
        "\n",
        "\n",
        "# Busca todos los registros que pertenezcan a una categoría\n",
        "def buscar_por_categoria(indice_categoria, inventario, categoria):\n",
        "    if categoria in indice_categoria:\n",
        "        return {i: inventario[i] for i in indice_categoria[categoria]}\n",
        "    else:\n",
        "        return \" Categoría no encontrada o sin componentes.\"\n",
        "\n",
        "\n",
        "# Programa principal\n",
        "def main():\n",
        "    archivo = \"inventario.txt\"\n",
        "    inventario, indice_id, indice_categoria = cargar_inventario(archivo)\n",
        "\n",
        "    while True:\n",
        "        print(\"\\n--- MENÚ DE INVENTARIO ---\")\n",
        "        print(\"1. Agregar componente\")\n",
        "        print(\"2. Buscar por ID\")\n",
        "        print(\"3. Buscar por categoría\")\n",
        "        print(\"4. Salir\")\n",
        "\n",
        "        opcion = input(\"Seleccione una opción: \")\n",
        "\n",
        "        if opcion == \"1\":\n",
        "            id_item = input(\"Ingrese ID del componente: \")\n",
        "            nombre = input(\"Ingrese nombre: \")\n",
        "            fabricante = input(\"Ingrese fabricante: \")\n",
        "            categoria = input(\"Ingrese categoría: \")\n",
        "            while True:\n",
        "                try:\n",
        "                    cantidad = int(input(\"Ingrese cantidad disponible: \"))\n",
        "                    break\n",
        "                except ValueError:\n",
        "                    print(\"Error: Ingrese un número válido.\")\n",
        "            inventario, indice_id, indice_categoria = agregar_item(inventario, archivo, id_item, nombre, fabricante, categoria, cantidad)\n",
        "            print(\" Componente añadido correctamente.\")\n",
        "\n",
        "        elif opcion == \"2\":\n",
        "            id_buscar = input(\"Ingrese el ID que desea consultar: \")\n",
        "            resultado = buscar_por_id(archivo, indice_id, id_buscar)\n",
        "            print(resultado)\n",
        "\n",
        "        elif opcion == \"3\":\n",
        "            categoria_buscar = input(\"Ingrese la categoría a consultar: \")\n",
        "            resultado = buscar_por_categoria(indice_categoria, inventario, categoria_buscar)\n",
        "            print(resultado)\n",
        "\n",
        "        elif opcion == \"4\":\n",
        "            print(\" Saliendo del programa...\")\n",
        "            break\n",
        "\n",
        "        else:\n",
        "            print(\" Opción no válida, intente nuevamente.\")\n",
        "\n",
        "\n",
        "if __name__ == \"__main__\":\n",
        "    main()\n"
      ],
      "metadata": {
        "colab": {
          "base_uri": "https://localhost:8080/"
        },
        "id": "E6WsOKGQWCNo",
        "outputId": "19e0d083-a51c-4ddb-9506-988ac9c91a89"
      },
      "id": "E6WsOKGQWCNo",
      "execution_count": null,
      "outputs": [
        {
          "output_type": "stream",
          "name": "stdout",
          "text": [
            "\n",
            "--- MENÚ DE INVENTARIO ---\n",
            "1. Agregar componente\n",
            "2. Buscar por ID\n",
            "3. Buscar por categoría\n",
            "4. Salir\n"
          ]
        }
      ]
    },
    {
      "cell_type": "markdown",
      "id": "d5c3cbea",
      "metadata": {
        "id": "d5c3cbea"
      },
      "source": [
        "\n",
        "---\n",
        "## Evaluación (5 puntos)\n",
        "| Criterio | Descripción | Puntos |\n",
        "|-----------|--------------|--------|\n",
        "| **Creación del archivo** | El archivo se crea correctamente con el formato solicitado | 1 |\n",
        "| **Lectura del archivo** | Muestra correctamente el contenido en formato legible | 1 |\n",
        "| **Filtrado por año** | Permite mostrar asignaturas de un año específico | 1 |\n",
        "| **Filtrado por Estado** | Permite mostrar asignaturas según su estado | 1 |\n",
        "| **Presentación y limpieza del código** | Uso correcto de funciones, legibilidad y documentación | 1 |\n",
        "| **Total** | | **5 puntos** |\n",
        "\n",
        "---\n",
        "**Entrega:** Suba este cuaderno (.ipynb) con las celdas ejecutadas y el archivo generado.\n"
      ]
    }
  ],
  "metadata": {
    "language_info": {
      "name": "python"
    },
    "colab": {
      "provenance": [],
      "include_colab_link": true
    },
    "kernelspec": {
      "name": "python3",
      "display_name": "Python 3"
    }
  },
  "nbformat": 4,
  "nbformat_minor": 5
}